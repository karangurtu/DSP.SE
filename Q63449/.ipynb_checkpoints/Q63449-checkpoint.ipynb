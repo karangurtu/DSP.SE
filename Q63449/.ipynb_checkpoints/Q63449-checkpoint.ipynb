{
 "cells": [
  {
   "cell_type": "code",
   "execution_count": 25,
   "metadata": {},
   "outputs": [
    {
     "data": {
      "text/plain": [
       "True"
      ]
     },
     "execution_count": 25,
     "metadata": {},
     "output_type": "execute_result"
    },
    {
     "data": {
      "image/png": "[encoded data removed]",
      "text/plain": [
       "<Figure size 432x288 with 1 Axes>"
      ]
     },
     "metadata": {
      "needs_background": "light"
     },
     "output_type": "display_data"
    },
    {
     "data": {
      "image/png": "[encoded data removed]",
      "text/plain": [
       "<Figure size 432x288 with 1 Axes>"
      ]
     },
     "metadata": {
      "needs_background": "light"
     },
     "output_type": "display_data"
    },
    {
     "data": {
      "image/png": "[encoded data removed]",
      "text/plain": [
       "<Figure size 432x288 with 1 Axes>"
      ]
     },
     "metadata": {
      "needs_background": "light"
     },
     "output_type": "display_data"
    },
    {
     "data": {
      "image/png": "[encoded data removed]",
      "text/plain": [
       "<Figure size 432x288 with 1 Axes>"
      ]
     },
     "metadata": {
      "needs_background": "light"
     },
     "output_type": "display_data"
    }
   ],
   "source": [
    "#Import all libraries we will use\n",
    "from matplotlib import pyplot as plt, rcParams, rc\n",
    "from scipy import ndimage\n",
    "import random\n",
    "import numpy as np\n",
    "import cv2\n",
    "from skimage import color, data, restoration\n",
    "\n",
    "N = 6\n",
    "\n",
    "img = np.zeros((N,N),np.uint8)\n",
    "\n",
    "for x in range(N):\n",
    "    for y in range(N):\n",
    "        #We use \"0\" for black color (do nothing) and \"1\" for white color (change pixel value to [255,255,255])\n",
    "        if (x == 2 or x == 3) and (y == 2 or y == 3):\n",
    "            img[x,y] = 1\n",
    "\n",
    "cv2.imwrite(\"img.png\",img)\n",
    "plt.figure()\n",
    "plt.imshow(img)\n",
    "\n",
    "M = 4\n",
    "sensor = np.zeros((M,M), np.uint8)\n",
    "\n",
    "for x in range(M):\n",
    "    for y in range(M):\n",
    "        sensor[x,y] = 1\n",
    "        \n",
    "        \n",
    "plt.figure()\n",
    "plt.imshow(sensor)        \n",
    "cv2.imwrite(\"sensor.png\",sensor)\n",
    "\n",
    "measurement = ndimage.convolve(img, sensor, mode='reflect', cval=0.0)\n",
    "plt.figure();\n",
    "plt.imshow(measurement)\n",
    "cv2.imwrite(\"measurement.png\",measurement)\n",
    "\n",
    "\n",
    "deconvolved_measurement = restoration.richardson_lucy(output, sensor, iterations=30)\n",
    "plt.figure();\n",
    "plt.imshow(deconvolved_measurement)\n",
    "cv2.imwrite(\"deconvolved_measurement.png\",deconvolved_measurement)\n",
    "\n"
   ]
  },
  {
   "cell_type": "code",
   "execution_count": 3,
   "metadata": {},
   "outputs": [
    {
     "name": "stdout",
     "output_type": "stream",
     "text": [
      "[[[0 0 0]\n",
      "  [0 0 0]\n",
      "  [0 0 0]\n",
      "  [0 0 0]\n",
      "  [0 0 0]\n",
      "  [0 0 0]]\n",
      "\n",
      " [[0 0 0]\n",
      "  [0 0 0]\n",
      "  [0 0 0]\n",
      "  [0 0 0]\n",
      "  [0 0 0]\n",
      "  [0 0 0]]\n",
      "\n",
      " [[0 0 0]\n",
      "  [0 0 0]\n",
      "  [0 0 0]\n",
      "  [0 0 0]\n",
      "  [0 0 0]\n",
      "  [0 0 0]]\n",
      "\n",
      " [[0 0 0]\n",
      "  [0 0 0]\n",
      "  [0 0 0]\n",
      "  [0 0 0]\n",
      "  [0 0 0]\n",
      "  [0 0 0]]\n",
      "\n",
      " [[0 0 0]\n",
      "  [0 0 0]\n",
      "  [0 0 0]\n",
      "  [0 0 0]\n",
      "  [0 0 0]\n",
      "  [0 0 0]]\n",
      "\n",
      " [[0 0 0]\n",
      "  [0 0 0]\n",
      "  [0 0 0]\n",
      "  [0 0 0]\n",
      "  [0 0 0]\n",
      "  [0 0 0]]]\n"
     ]
    }
   ],
   "source": [
    "\n",
    "\n",
    "print(img)"
   ]
  },
  {
   "cell_type": "code",
   "execution_count": null,
   "metadata": {},
   "outputs": [],
   "source": []
  }
 ],
 "metadata": {
  "kernelspec": {
   "display_name": "Python 3",
   "language": "python",
   "name": "python3"
  },
  "language_info": {
   "codemirror_mode": {
    "name": "ipython",
    "version": 3
   },
   "file_extension": ".py",
   "mimetype": "text/x-python",
   "name": "python",
   "nbconvert_exporter": "python",
   "pygments_lexer": "ipython3",
   "version": "3.7.3"
  }
 },
 "nbformat": 4,
 "nbformat_minor": 2
}
