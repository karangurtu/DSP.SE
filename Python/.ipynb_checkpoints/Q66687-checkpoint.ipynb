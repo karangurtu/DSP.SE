{
 "cells": [
  {
   "cell_type": "code",
   "execution_count": 6,
   "metadata": {},
   "outputs": [
    {
     "data": {
      "text/plain": [
       "<matplotlib.legend.Legend at 0x7fadc06ea650>"
      ]
     },
     "execution_count": 6,
     "metadata": {},
     "output_type": "execute_result"
    },
    {
     "data": {
      "image/png": "[encoded data removed]",
      "text/plain": [
       "<Figure size 432x288 with 1 Axes>"
      ]
     },
     "metadata": {
      "needs_background": "light"
     },
     "output_type": "display_data"
    }
   ],
   "source": [
    "import numpy as np\n",
    "import pandas as pd\n",
    "from pykalman import KalmanFilter\n",
    "from numpy import ma\n",
    "import matplotlib.pyplot as plt\n",
    "import pandas as pd\n",
    "# Add time\n",
    "time = np.linspace(-np.pi, np.pi, 201)\n",
    "\n",
    "df = pd.read_csv('Q66687.csv')\n",
    "realwheel_y = df.rearwheel_y\n",
    "\n",
    "# Locate and clip relevant snippet of motion, removing unecessary data at the beginning and end\n",
    "rearwheel_y = rearwheel_y[385: 600]\n",
    "\n",
    "#rearwheel_y = np.sin(20*time) + 10\n",
    "\n",
    "\n",
    "\n",
    "# The numpy.ma module provides a convenient way to address the issue of dropout, with masked arrays.\n",
    "# When an element of the mask is False, the corresponding element of the associated array is valid and is said to be unmasked.\n",
    "# When an element of the mask is True, the corresponding element of the associated array is said to be masked (invalid).\n",
    "rearwheel_y = ma.masked_values(rearwheel_y, 0)\n",
    "\n",
    "# time step\n",
    "dt = 1\n",
    "# initial_state_mean\n",
    "X0 = 0 #rearwheel_y[0]\n",
    "# initial_state_covariance\n",
    "P0 = 0\n",
    "n_timesteps = len(rearwheel_y)\n",
    "n_dim_state = 2\n",
    "filtered_state_means = np.zeros((n_timesteps, n_dim_state))\n",
    "filtered_state_covariances = np.zeros((n_timesteps, n_dim_state, n_dim_state))\n",
    "# Kalman-Filter initialization\n",
    "kf = KalmanFilter(transition_matrices = np.array([[0.01,0.99], [0, 1]]),\n",
    "                  observation_matrices = np.array([[1., 0]]),\n",
    "                  transition_covariance = np.array([[1, 0],[0,1]]),\n",
    "                  observation_covariance = np.array([[1000]]),\n",
    "                  initial_state_mean = np.array([[0,0]]),\n",
    "                  initial_state_covariance = np.array([[0.3, 0], [0, 0.3]]))\n",
    "# iterative estimation for each new measurement\n",
    "for t in range(n_timesteps):\n",
    "    if t == 0:\n",
    "        filtered_state_means[t] = X0\n",
    "        filtered_state_covariances[t] = P0\n",
    "    elif t != 0:\n",
    "        filtered_state_means[t], filtered_state_covariances[t] = (\n",
    "        kf.filter_update(\n",
    "            filtered_state_means[t-1],\n",
    "            filtered_state_covariances[t-1],\n",
    "            observation = rearwheel_y[t])\n",
    "        )\n",
    "\n",
    "# plot of the resulting trajectory\n",
    "plt.figure()\n",
    "plt.plot(rearwheel_y, 'k.', label = 'Observations')\n",
    "plt.plot(filtered_state_means[:, 0], \"y-\", label=\"Filtered Positions\", markersize=1)\n",
    "plt.ylim(8, 12)\n",
    "plt.grid()\n",
    "handles, labels = plt.gca().get_legend_handles_labels()\n",
    "by_label = dict(zip(labels, handles))\n",
    "plt.legend(by_label.values(), by_label.keys())"
   ]
  },
  {
   "cell_type": "code",
   "execution_count": 4,
   "metadata": {},
   "outputs": [
    {
     "data": {
      "text/plain": [
       "'/Users/kootsoop/git/DSP.SE/Python'"
      ]
     },
     "execution_count": 4,
     "metadata": {},
     "output_type": "execute_result"
    }
   ],
   "source": [
    "import os\n",
    "os.getcwd()\n"
   ]
  },
  {
   "cell_type": "code",
   "execution_count": null,
   "metadata": {},
   "outputs": [],
   "source": []
  }
 ],
 "metadata": {
  "kernelspec": {
   "display_name": "Python 3",
   "language": "python",
   "name": "python3"
  },
  "language_info": {
   "codemirror_mode": {
    "name": "ipython",
    "version": 3
   },
   "file_extension": ".py",
   "mimetype": "text/x-python",
   "name": "python",
   "nbconvert_exporter": "python",
   "pygments_lexer": "ipython3",
   "version": "3.7.6"
  }
 },
 "nbformat": 4,
 "nbformat_minor": 4
}
