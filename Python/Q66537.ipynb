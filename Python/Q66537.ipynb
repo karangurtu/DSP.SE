{
 "cells": [
  {
   "cell_type": "code",
   "execution_count": 10,
   "metadata": {},
   "outputs": [
    {
     "data": {
      "text/plain": [
       "<matplotlib.image.AxesImage at 0x7fbc405dbdd0>"
      ]
     },
     "execution_count": 10,
     "metadata": {},
     "output_type": "execute_result"
    },
    {
     "data": {
      "image/png": "[encoded data removed]",
      "text/plain": [
       "<Figure size 432x288 with 1 Axes>"
      ]
     },
     "metadata": {
      "needs_background": "light"
     },
     "output_type": "display_data"
    }
   ],
   "source": [
    "import numpy as np\n",
    "import matplotlib.pyplot as plt\n",
    "import PIL\n",
    "import cmath\n",
    "\n",
    "def DFT2D(image):\n",
    "    data = np.asarray(image)\n",
    "    M, N = image.size # (img x, img y)\n",
    "    dft2d = np.zeros((M,N),dtype=complex)\n",
    "    for k in range(M):\n",
    "        for l in range(N):\n",
    "            sum_matrix = 0.0\n",
    "            for m in range(M):\n",
    "                for n in range(N):\n",
    "                    e = cmath.exp(- 2j * np.pi * ((k * m) / M + (l * n) / N))\n",
    "                    sum_matrix +=  data[m,n,1] * e\n",
    "            dft2d[k,l] = sum_matrix\n",
    "    return dft2d\n",
    "\n",
    "#img = PIL.Image.open(\"example.jpg\")\n",
    "#img2 = img.resize((50,50))\n",
    "#plt.imshow(img2)\n",
    "#dft = DFT2D(img2)\n",
    "#plt.imshow(dft.real)\n",
    "image = PIL.Image.new('RGBA', size=(50, 50), color=(1, 0, 0))\n",
    "plt.imshow(image)"
   ]
  },
  {
   "cell_type": "code",
   "execution_count": null,
   "metadata": {},
   "outputs": [],
   "source": []
  },
  {
   "cell_type": "code",
   "execution_count": null,
   "metadata": {},
   "outputs": [],
   "source": []
  },
  {
   "cell_type": "code",
   "execution_count": null,
   "metadata": {},
   "outputs": [],
   "source": []
  },
  {
   "cell_type": "code",
   "execution_count": null,
   "metadata": {},
   "outputs": [],
   "source": []
  },
  {
   "cell_type": "code",
   "execution_count": null,
   "metadata": {},
   "outputs": [],
   "source": []
  }
 ],
 "metadata": {
  "kernelspec": {
   "display_name": "Python 3",
   "language": "python",
   "name": "python3"
  },
  "language_info": {
   "codemirror_mode": {
    "name": "ipython",
    "version": 3
   },
   "file_extension": ".py",
   "mimetype": "text/x-python",
   "name": "python",
   "nbconvert_exporter": "python",
   "pygments_lexer": "ipython3",
   "version": "3.7.6"
  }
 },
 "nbformat": 4,
 "nbformat_minor": 4
}
