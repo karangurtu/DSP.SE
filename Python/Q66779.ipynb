{
 "cells": [
  {
   "cell_type": "code",
   "execution_count": 33,
   "metadata": {},
   "outputs": [
    {
     "name": "stdout",
     "output_type": "stream",
     "text": [
      "0.33155450566572214 331.55450566572216 0.001\n"
     ]
    },
    {
     "data": {
      "image/png": "[encoded data removed]",
      "text/plain": [
       "<Figure size 432x288 with 1 Axes>"
      ]
     },
     "metadata": {
      "needs_background": "light"
     },
     "output_type": "display_data"
    }
   ],
   "source": [
    "import numpy as np\n",
    "import matplotlib.pyplot as plt\n",
    "\n",
    "N = 1000\n",
    "x = np.linspace(0,100,N)\n",
    "true_map = [0.0] * len(x)\n",
    "true_map[100] = 1/3\n",
    "true_map[200] = 1/3\n",
    "true_map[800] = 1/3\n",
    "\n",
    "\n",
    "gx = np.linspace(-3, 3, 30)\n",
    "gaussian = np.exp(-(gx/sigma)**2/2)\n",
    "uncertain_map = np.convolve(gaussian, true_map, mode='same')\n",
    "\n",
    "maximum_confusion = [1.0/N] * len(x)\n",
    "plt.figure()\n",
    "plt.plot(x,maximum_confusion)\n",
    "#plt.plot(x, uncertain_map, \"r-\")\n",
    "\n",
    "after_first_measurement = np.multiply(maxiumum_confusion, uncertain_map)\n",
    "plt.plot(x, after_first_measurement, \"k.\")\n",
    "print(np.max(uncertain_map), np.max(after_first_measurement), np.max(maximum_confusion))\n"
   ]
  },
  {
   "cell_type": "code",
   "execution_count": null,
   "metadata": {},
   "outputs": [],
   "source": []
  },
  {
   "cell_type": "code",
   "execution_count": null,
   "metadata": {},
   "outputs": [],
   "source": []
  }
 ],
 "metadata": {
  "kernelspec": {
   "display_name": "Python 3",
   "language": "python",
   "name": "python3"
  },
  "language_info": {
   "codemirror_mode": {
    "name": "ipython",
    "version": 3
   },
   "file_extension": ".py",
   "mimetype": "text/x-python",
   "name": "python",
   "nbconvert_exporter": "python",
   "pygments_lexer": "ipython3",
   "version": "3.7.6"
  }
 },
 "nbformat": 4,
 "nbformat_minor": 4
}
