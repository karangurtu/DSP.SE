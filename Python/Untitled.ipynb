{
 "cells": [
  {
   "cell_type": "code",
   "execution_count": 12,
   "metadata": {},
   "outputs": [
    {
     "name": "stdout",
     "output_type": "stream",
     "text": [
      "['laundralarm', 'aqua-drone', 'bear-aware-alarm', 'coffeeking', 'lit', 'motion-powered-light']\n"
     ]
    }
   ],
   "source": [
    "import random\n",
    "projects = ['motion-powered-light', 'laundralarm', 'coffeeking', 'lit', 'aqua-drone', 'bear-aware-alarm']\n",
    "random.shuffle(projects)\n",
    "random.shuffle(projects)\n",
    "random.shuffle(projects)\n",
    "random.shuffle(projects)\n",
    "random.shuffle(projects)\n",
    "print(projects)"
   ]
  },
  {
   "cell_type": "code",
   "execution_count": null,
   "metadata": {},
   "outputs": [],
   "source": []
  },
  {
   "cell_type": "code",
   "execution_count": null,
   "metadata": {},
   "outputs": [],
   "source": []
  }
 ],
 "metadata": {
  "kernelspec": {
   "display_name": "Python 3",
   "language": "python",
   "name": "python3"
  },
  "language_info": {
   "codemirror_mode": {
    "name": "ipython",
    "version": 3
   },
   "file_extension": ".py",
   "mimetype": "text/x-python",
   "name": "python",
   "nbconvert_exporter": "python",
   "pygments_lexer": "ipython3",
   "version": "3.7.6"
  }
 },
 "nbformat": 4,
 "nbformat_minor": 4
}
